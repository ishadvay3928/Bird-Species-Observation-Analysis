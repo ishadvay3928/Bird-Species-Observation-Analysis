{
  "nbformat": 4,
  "nbformat_minor": 0,
  "metadata": {
    "colab": {
      "private_outputs": true,
      "provenance": [],
      "collapsed_sections": [
        "vncDsAP0Gaoa",
        "FJNUwmbgGyua",
        "w6K7xa23Elo4",
        "yQaldy8SH6Dl",
        "PH-0ReGfmX4f",
        "mDgbUHAGgjLW",
        "O_i_v8NEhb9l",
        "HhfV-JJviCcP",
        "Y3lxredqlCYt",
        "3RnN4peoiCZX",
        "x71ZqKXriCWQ",
        "7hBIi_osiCS2",
        "JlHwYmJAmNHm",
        "35m5QtbWiB9F",
        "PoPl-ycgm1ru",
        "H0kj-8xxnORC",
        "nA9Y7ga8ng1Z",
        "PBTbrJXOngz2",
        "u3PMJOP6ngxN",
        "dauF4eBmngu3",
        "bKJF3rekwFvQ",
        "MSa1f5Uengrz",
        "GF8Ens_Soomf",
        "0wOQAZs5pc--",
        "K5QZ13OEpz2H",
        "lQ7QKXXCp7Bj",
        "448CDAPjqfQr",
        "KSlN3yHqYklG",
        "t6dVpIINYklI",
        "ijmpgYnKYklI",
        "-JiQyfWJYklI",
        "EM7whBJCYoAo",
        "fge-S5ZAYoAp",
        "85gYPyotYoAp",
        "RoGjAbkUYoAp",
        "4Of9eVA-YrdM",
        "iky9q4vBYrdO",
        "F6T5p64dYrdO",
        "y-Ehk30pYrdP",
        "bamQiAODYuh1",
        "QHF8YVU7Yuh3",
        "GwzvFGzlYuh3",
        "qYpmQ266Yuh3",
        "OH-pJp9IphqM",
        "bbFf2-_FphqN",
        "_ouA3fa0phqN",
        "Seke61FWphqN",
        "PIIx-8_IphqN",
        "t27r6nlMphqO",
        "r2jJGEOYphqO",
        "b0JNsNcRphqO",
        "BZR9WyysphqO",
        "jj7wYXLtphqO",
        "eZrbJ2SmphqO",
        "rFu4xreNphqO",
        "YJ55k-q6phqO",
        "gCFgpxoyphqP",
        "OVtJsKN_phqQ",
        "lssrdh5qphqQ",
        "U2RJ9gkRphqQ",
        "1M8mcRywphqQ",
        "tgIPom80phqQ",
        "JMzcOPDDphqR",
        "x-EpHcCOp1ci",
        "X_VqEhTip1ck",
        "8zGJKyg5p1ck",
        "PVzmfK_Ep1ck",
        "n3dbpmDWp1ck",
        "ylSl6qgtp1ck",
        "ZWILFDl5p1ck",
        "M7G43BXep1ck",
        "Ag9LCva-p1cl",
        "E6MkPsBcp1cl",
        "2cELzS2fp1cl",
        "3MPXvC8up1cl",
        "NC_X3p0fY2L0",
        "UV0SzAkaZNRQ",
        "YPEH6qLeZNRQ",
        "q29F0dvdveiT",
        "EXh0U9oCveiU",
        "22aHeOlLveiV",
        "JcMwzZxoAimU",
        "8G2x9gOozGDZ",
        "gCX9965dhzqZ",
        "gIfDvo9L0UH2"
      ],
      "include_colab_link": true
    },
    "kernelspec": {
      "name": "python3",
      "display_name": "Python 3"
    },
    "language_info": {
      "name": "python"
    }
  },
  "cells": [
    {
      "cell_type": "markdown",
      "metadata": {
        "id": "view-in-github",
        "colab_type": "text"
      },
      "source": [
        "<a href=\"https://colab.research.google.com/github/ishadvay3928/Bird-Species-Observation-Analysis/blob/main/Bird_Species_Observation_EDA_Analysis.ipynb\" target=\"_parent\"><img src=\"https://colab.research.google.com/assets/colab-badge.svg\" alt=\"Open In Colab\"/></a>"
      ]
    },
    {
      "cell_type": "markdown",
      "source": [
        "# **Project Name**    - **Bird Species Observation Analysis**\n",
        "\n"
      ],
      "metadata": {
        "id": "vncDsAP0Gaoa"
      }
    },
    {
      "cell_type": "markdown",
      "source": [
        "##### **Project Type**    -  Exploratory Data Analysis(EDA)\n",
        "##### **Contribution**    - Individual\n"
      ],
      "metadata": {
        "id": "beRrZCGUAJYm"
      }
    },
    {
      "cell_type": "markdown",
      "source": [
        "# **Project Summary -**"
      ],
      "metadata": {
        "id": "FJNUwmbgGyua"
      }
    },
    {
      "cell_type": "markdown",
      "source": [
        "This project presents a comprehensive Exploratory Data Analysis (EDA) of a mental health survey dataset focusing on employees in the tech industry. The main objective was to analyze employee responses to understand mental health trends, workplace support systems, and treatment-seeking behavior, ultimately aiding organizations in crafting more effective mental health policies and initiatives.\n",
        "\n",
        "The dataset underwent data cleaning and transformation to handle inconsistencies and categorical encoding, followed by visual exploration through 15 different charts including histograms, pie charts, count plots, strip plots, and a correlation heatmap. These visualizations provided in-depth insights into demographic distributions, treatment patterns, and organizational support factors.\n",
        "\n",
        "Key findings revealed that:\n",
        "\n",
        "- Employees in their late 20s and early 30s dominate the respondent pool and face significant mental health interference.\n",
        "\n",
        "- The respondent base is heavily male-dominated, and treatment rates among males are notably lower.\n",
        "\n",
        "- The majority of responses came from the US, indicating regional participation bias.\n",
        "\n",
        "- About half of the respondents are undergoing treatment, highlighting a growing openness towards mental health.\n",
        "\n",
        "- Smaller companies (6–100 employees) form the majority, calling for scalable mental health solutions.\n",
        "\n",
        "- Strong correlations were found between coworker-supervisor support (0.57), wellness programs and seeking help (0.47), and benefits-care options (0.44), suggesting key leverage points for integrated mental health strategies.\n",
        "\n",
        "The analysis uncovered gaps such as lack of awareness around mental health leave, treatment hesitancy among certain groups, and minimal participation from non-Western countries. These insights provide organizations with actionable data to design inclusive, gender-sensitive, scalable, and globally relevant workplace mental health initiatives."
      ],
      "metadata": {
        "id": "F6v_1wHtG2nS"
      }
    },
    {
      "cell_type": "markdown",
      "source": [
        "# **GitHub Link -**"
      ],
      "metadata": {
        "id": "w6K7xa23Elo4"
      }
    },
    {
      "cell_type": "markdown",
      "source": [
        "https://github.com/ishadvay3928/Bird-Species-Observation-Analysis/blob/main/Bird_Species_Observation_Analysis.ipynb"
      ],
      "metadata": {
        "id": "h1o69JH3Eqqn"
      }
    },
    {
      "cell_type": "markdown",
      "source": [
        "# **Problem Statement**\n"
      ],
      "metadata": {
        "id": "yQaldy8SH6Dl"
      }
    },
    {
      "cell_type": "markdown",
      "source": [
        "**The project aims to analyze the distribution and diversity of bird species in two distinct ecosystems: forests and grasslands. By examining bird species observations across these habitats, the goal is to understand how environmental factors, such as vegetation type, climate, and terrain, influence bird populations and their behavior. The study will involve working on the provided observational data of bird species present in both ecosystems, identifying patterns of habitat preference, and assessing the impact of these habitats on bird diversity. The findings can provide valuable insights into habitat conservation, biodiversity management, and the effects of environmental changes on avian communities.**\n",
        "\n"
      ],
      "metadata": {
        "id": "DpeJGUA3kjGy"
      }
    },
    {
      "cell_type": "markdown",
      "source": [
        "#### **Define Your Business Objective?**"
      ],
      "metadata": {
        "id": "PH-0ReGfmX4f"
      }
    },
    {
      "cell_type": "markdown",
      "source": [
        "- Inform decisions on protecting critical bird habitats and enhancing biodiversity conservation efforts.\n",
        "- Optimize land use and habitat restoration strategies by understanding the preferences of different bird species.\n",
        "- Identify bird-rich areas to develop bird-watching tourism, attracting eco-tourists and boosting local economies.\n",
        "- Support the development of agricultural practices that minimize the impact on bird populations in grasslands and forests.\n",
        "- Provide data-driven insights to help environmental agencies create effective conservation policies and strategies for vulnerable bird species.\n",
        "- Track the health and diversity of avian populations, aiding in the monitoring of ecosystem stability."
      ],
      "metadata": {
        "id": "PhDvGCAqmjP1"
      }
    },
    {
      "cell_type": "markdown",
      "source": [
        "# ***Let's Begin !***"
      ],
      "metadata": {
        "id": "O_i_v8NEhb9l"
      }
    },
    {
      "cell_type": "markdown",
      "source": [
        "## ***1. Know Your Data***"
      ],
      "metadata": {
        "id": "HhfV-JJviCcP"
      }
    },
    {
      "cell_type": "markdown",
      "source": [
        "### Import Libraries"
      ],
      "metadata": {
        "id": "Y3lxredqlCYt"
      }
    },
    {
      "cell_type": "code",
      "source": [
        "# Import Libraries\n",
        "import numpy as np\n",
        "import pandas as pd\n",
        "import matplotlib.pyplot as plt\n",
        "%matplotlib inline\n",
        "import seaborn as sns"
      ],
      "metadata": {
        "id": "M8Vqi-pPk-HR"
      },
      "execution_count": null,
      "outputs": []
    },
    {
      "cell_type": "markdown",
      "source": [
        "### Dataset Loading"
      ],
      "metadata": {
        "id": "3RnN4peoiCZX"
      }
    },
    {
      "cell_type": "code",
      "execution_count": null,
      "metadata": {
        "id": "ovK2BRJojy8z"
      },
      "outputs": [],
      "source": [
        "# Load forest Dataset\n",
        "\n",
        "import pandas as pd\n",
        "# Specify the file path\n",
        "file_path = \"/content/Bird_Monitoring_Data_FOREST.XLSX\"\n",
        "\n",
        "# Read the Excel file with multiple sheets\n",
        "excel_data = pd.ExcelFile(file_path)\n",
        "\n",
        "# Get all sheet names\n",
        "sheet_names = excel_data.sheet_names\n",
        "\n",
        "# Read data from all sheets into a dictionary\n",
        "sheets_dict = {sheet: excel_data.parse(sheet) for sheet in sheet_names}"
      ]
    },
    {
      "cell_type": "code",
      "source": [
        "Forest_combined_df = pd.concat(\n",
        "    [df.assign(Sheet=sheet_name) for sheet_name, df in sheets_dict.items()],\n",
        "    ignore_index=True\n",
        ")"
      ],
      "metadata": {
        "id": "36_Aa_Onj0l2"
      },
      "execution_count": null,
      "outputs": []
    },
    {
      "cell_type": "code",
      "source": [
        "# later u can Drop the 'Sheet' column\n",
        "Forest_combined_df = Forest_combined_df.drop(columns=['Sheet'])"
      ],
      "metadata": {
        "id": "sxkbLMHA8diL"
      },
      "execution_count": null,
      "outputs": []
    },
    {
      "cell_type": "code",
      "execution_count": null,
      "metadata": {
        "id": "a1DYZKMe7f3m"
      },
      "outputs": [],
      "source": [
        "# Load grassland Dataset\n",
        "\n",
        "import pandas as pd\n",
        "# Specify the file path\n",
        "file_path = \"/content/Bird_Monitoring_Data_GRASSLAND.XLSX\"\n",
        "\n",
        "# Read the Excel file with multiple sheets\n",
        "excel_data = pd.ExcelFile(file_path)\n",
        "\n",
        "# Get all sheet names\n",
        "sheet_names = excel_data.sheet_names\n",
        "\n",
        "# Read data from all sheets into a dictionary\n",
        "sheets_dict = {sheet: excel_data.parse(sheet) for sheet in sheet_names}"
      ]
    },
    {
      "cell_type": "code",
      "source": [
        "Grassland_combined_df = pd.concat(\n",
        "    [df.assign(Sheet=sheet_name) for sheet_name, df in sheets_dict.items()],\n",
        "    ignore_index=True\n",
        ")"
      ],
      "metadata": {
        "id": "QfgviBCh7tDe"
      },
      "execution_count": null,
      "outputs": []
    },
    {
      "cell_type": "code",
      "source": [
        "# later u can Drop the 'Sheet' column\n",
        "Grassland_combined_df = Grassland_combined_df.drop(columns=['Sheet'])"
      ],
      "metadata": {
        "id": "uL6BOZVo8xFf"
      },
      "execution_count": null,
      "outputs": []
    },
    {
      "cell_type": "markdown",
      "source": [
        "### Dataset First View"
      ],
      "metadata": {
        "id": "x71ZqKXriCWQ"
      }
    },
    {
      "cell_type": "code",
      "source": [
        "# Dataset First Look\n",
        "Forest_combined_df.head()"
      ],
      "metadata": {
        "id": "LWNFOSvLl09H"
      },
      "execution_count": null,
      "outputs": []
    },
    {
      "cell_type": "code",
      "source": [
        "Grassland_combined_df.head()"
      ],
      "metadata": {
        "id": "oCAqHOxq8JIU"
      },
      "execution_count": null,
      "outputs": []
    },
    {
      "cell_type": "markdown",
      "source": [
        "### Dataset Rows & Columns count"
      ],
      "metadata": {
        "id": "7hBIi_osiCS2"
      }
    },
    {
      "cell_type": "code",
      "source": [
        "# Dataset Rows & Columns count\n",
        "Forest_combined_df.shape"
      ],
      "metadata": {
        "id": "Kllu7SJgmLij"
      },
      "execution_count": null,
      "outputs": []
    },
    {
      "cell_type": "code",
      "source": [
        "Grassland_combined_df.shape"
      ],
      "metadata": {
        "id": "Pmxuc-MN9IyT"
      },
      "execution_count": null,
      "outputs": []
    },
    {
      "cell_type": "markdown",
      "source": [
        "### Dataset Information"
      ],
      "metadata": {
        "id": "JlHwYmJAmNHm"
      }
    },
    {
      "cell_type": "code",
      "source": [
        "# Dataset Info\n",
        "Forest_combined_df.info()"
      ],
      "metadata": {
        "id": "e9hRXRi6meOf"
      },
      "execution_count": null,
      "outputs": []
    },
    {
      "cell_type": "code",
      "source": [
        "Grassland_combined_df.info()"
      ],
      "metadata": {
        "id": "IVn0UClz9S3l"
      },
      "execution_count": null,
      "outputs": []
    },
    {
      "cell_type": "markdown",
      "source": [
        "#### Duplicate Values"
      ],
      "metadata": {
        "id": "35m5QtbWiB9F"
      }
    },
    {
      "cell_type": "code",
      "source": [
        "# Duplicate Value Count\n",
        "Forest_combined_df.duplicated().sum()"
      ],
      "metadata": {
        "id": "1sLdpKYkmox0"
      },
      "execution_count": null,
      "outputs": []
    },
    {
      "cell_type": "code",
      "source": [
        "Grassland_combined_df.duplicated().sum()"
      ],
      "metadata": {
        "id": "cQf_8mYQ9hQP"
      },
      "execution_count": null,
      "outputs": []
    },
    {
      "cell_type": "markdown",
      "source": [
        "#### Missing Values/Null Values"
      ],
      "metadata": {
        "id": "PoPl-ycgm1ru"
      }
    },
    {
      "cell_type": "code",
      "source": [
        "# Missing Values/Null Values Count of datasets\n",
        "Forest_combined_df.isnull().sum()"
      ],
      "metadata": {
        "id": "GgHWkxvamxVg"
      },
      "execution_count": null,
      "outputs": []
    },
    {
      "cell_type": "code",
      "source": [
        "Grassland_combined_df.isnull().sum()"
      ],
      "metadata": {
        "id": "7EAAIpB59_IS"
      },
      "execution_count": null,
      "outputs": []
    },
    {
      "cell_type": "code",
      "source": [
        "# Visualizing the missing values\n",
        "import missingno as msno\n",
        "msno.bar(Forest_combined_df)"
      ],
      "metadata": {
        "id": "3q5wnI3om9sJ"
      },
      "execution_count": null,
      "outputs": []
    },
    {
      "cell_type": "code",
      "source": [
        "import missingno as msno\n",
        "msno.bar(Grassland_combined_df)"
      ],
      "metadata": {
        "id": "Urhi5J96-hWj"
      },
      "execution_count": null,
      "outputs": []
    },
    {
      "cell_type": "markdown",
      "source": [
        "### What did you know about your dataset?"
      ],
      "metadata": {
        "id": "H0kj-8xxnORC"
      }
    },
    {
      "cell_type": "markdown",
      "source": [
        "**Forest dataset**\n",
        "- There are 8546 rows and 29 columns in the dataset.\n",
        "- Out of which 5 Columns have missing Values. Column 'Sub_Unit_Code' have most missing values of 7824.\n",
        "- Out of all 'ID_Method' Have least missing values of 1.\n",
        "\n",
        "**Grassland dataset**\n",
        "- There are 8531 rows and 29 columns in the dataset.\n",
        "- Out of which 5 Columns have missing Values. Column 'Sub_Unit_Code' have most missing values of 8531.\n",
        "- Out of all 'ID_Method' Have least missing values of 1.\n"
      ],
      "metadata": {
        "id": "gfoNAAC-nUe_"
      }
    },
    {
      "cell_type": "markdown",
      "source": [
        "## ***2. Understanding Your Variables***"
      ],
      "metadata": {
        "id": "nA9Y7ga8ng1Z"
      }
    },
    {
      "cell_type": "code",
      "source": [
        "# Dataset Columns\n",
        "Forest_combined_df.columns"
      ],
      "metadata": {
        "id": "j7xfkqrt5Ag5"
      },
      "execution_count": null,
      "outputs": []
    },
    {
      "cell_type": "code",
      "source": [
        "Grassland_combined_df.columns"
      ],
      "metadata": {
        "id": "iwL24N_RBzio"
      },
      "execution_count": null,
      "outputs": []
    },
    {
      "cell_type": "code",
      "source": [
        "#Dataset Describe\n",
        "Forest_combined_df.describe(include='all')"
      ],
      "metadata": {
        "id": "P8ys3L1qT80u"
      },
      "execution_count": null,
      "outputs": []
    },
    {
      "cell_type": "code",
      "source": [
        "Grassland_combined_df.describe(include='all')"
      ],
      "metadata": {
        "id": "OTu9ETBICEdd"
      },
      "execution_count": null,
      "outputs": []
    },
    {
      "cell_type": "markdown",
      "source": [
        "### Variables Description"
      ],
      "metadata": {
        "id": "PBTbrJXOngz2"
      }
    },
    {
      "cell_type": "markdown",
      "source": [
        "**The dataset contains observational data for bird species recorded across multiple forest and grassland sites. It includes detailed columns describing location, observation methods, bird species, and environmental conditions.**\n",
        "\n",
        "- Admin_Unit_Code: The code for the administrative unit (e.g., \"ANTI\") where the observation was conducted.\n",
        "- Sub_Unit_Code: The sub-unit within the administrative unit for further classification.\n",
        "- Site_Name: The name of the specific observation site within the unit.\n",
        "- Plot_Name: A unique identifier for the specific plot where observations were recorded.\n",
        "- Location_Type: The habitat type of the observation area (e.g., \"Forest\").\n",
        "- Year: The year in which the observation took place.\n",
        "- Date: The exact date of the observation.\n",
        "- Start_Time: The start time of the observation session.\n",
        "- End_Time: The end time of the observation session.\n",
        "- Observer: The individual who conducted the observation.\n",
        "- Visit: The count of visits made to the same observation site or plot.\n",
        "- Interval_Length: The duration of the observation interval (e.g., \"0-2.5 min\").\n",
        "- ID_Method: The method used to identify the species (e.g., \"Singing,\" \"Calling,\" \"Visualization\").\n",
        "- Distance: The distance of the observed species from the observer (e.g., \"<= 50 Meters\").\n",
        "- Flyover_Observed: Indicates whether the bird was observed flying overhead (TRUE/FALSE).\n",
        "- Sex: The sex of the observed bird (e.g., Male, Female, Undetermined).\n",
        "- Common_Name: The common name of the observed bird species (e.g., \"Eastern Towhee\").\n",
        "- Scientific_Name: The scientific name of the observed bird species (e.g., Pipilo erythrophthalmus).\n",
        "- AcceptedTSN: The Taxonomic Serial Number for the observed species.\n",
        "- NPSTaxonCode: A unique code assigned to the taxon of the species.\n",
        "- AOU_Code: The American Ornithological Union code for the species.\n",
        "- PIF_Watchlist_Status: Indicates whether the species is on the Partners in  Flight Watchlist (e.g., \"TRUE\" for at-risk species).\n",
        "- Regional_Stewardship_Status: Denotes the conservation priority within the region (TRUE/FALSE).\n",
        "- Temperature: The temperature recorded at the time of observation (in degrees).\n",
        "- Humidity: The humidity percentage recorded at the time of observation.\n",
        "- Sky: The sky condition during the observation (e.g., \"Cloudy/Overcast\").\n",
        "- Wind: The wind condition (e.g., \"Calm (< 1 mph) smoke rises vertically\").\n",
        "- Disturbance: Notes any disturbances that could affect the observation (e.g., \"No effect on count\").\n",
        "- Initial_Three_Min_Cnt: The count of the species observed in the first three minutes of the session.\n",
        "\n",
        "**Sheets Information:**\n",
        "\n",
        "The Excel file contains multiple sheets representing different administrative units, with their codes matching the Admin_Unit_Code column:\n",
        "\n",
        "- ANTI: Data for the Antietam National Battlefield.\n",
        "- CATO: Data for the Catoctin Mountain Park.\n",
        "- CHOH: Data for the Chesapeake and Ohio Canal National Historical Park.\n",
        "- GWMP: Data for the George Washington Memorial Parkway.\n",
        "- HAFE: Data for Harpers Ferry National Historical Park.\n",
        "- MANA: Data for the Manassas National Battlefield Park.\n",
        "- MONO: Data for the Monocacy National Battlefield.\n",
        "- NACE: Data for the National Capital East Parks.\n",
        "- PRWI: Data for the Prince William Forest Park.\n",
        "- ROCR: Data for the Rock Creek Park.\n",
        "- WOTR: Data for the Wolf Trap National Park for the Performing Arts."
      ],
      "metadata": {
        "id": "5W0N5i2sDAhf"
      }
    },
    {
      "cell_type": "markdown",
      "source": [
        "### Check Unique Values for each variable."
      ],
      "metadata": {
        "id": "u3PMJOP6ngxN"
      }
    },
    {
      "cell_type": "code",
      "source": [
        "# Check Unique Values for each variable of dataset.\n",
        "Forest_combined_df.nunique()"
      ],
      "metadata": {
        "id": "zms12Yq5n-jE"
      },
      "execution_count": null,
      "outputs": []
    },
    {
      "cell_type": "code",
      "source": [
        "Grassland_combined_df.nunique()"
      ],
      "metadata": {
        "id": "rs65txtTFsvK"
      },
      "execution_count": null,
      "outputs": []
    },
    {
      "cell_type": "markdown",
      "source": [
        "## ***3. Data Wrangling***"
      ],
      "metadata": {
        "id": "dauF4eBmngu3"
      }
    },
    {
      "cell_type": "markdown",
      "source": [
        "### Data Wrangling Code"
      ],
      "metadata": {
        "id": "bKJF3rekwFvQ"
      }
    },
    {
      "cell_type": "code",
      "source": [
        "# Merge both datasets\n",
        "Merged_df = pd.concat([Forest_combined_df, Grassland_combined_df], ignore_index=True)"
      ],
      "metadata": {
        "id": "8g1BqgUZHqKd"
      },
      "execution_count": null,
      "outputs": []
    },
    {
      "cell_type": "code",
      "source": [
        "# Drop Sub_Unit_Code column as it has very less non-null values\n",
        "Merged_df.drop(columns=['Sub_Unit_Code'], inplace=True)"
      ],
      "metadata": {
        "id": "Hqcu40iFUoHA"
      },
      "execution_count": null,
      "outputs": []
    },
    {
      "cell_type": "code",
      "source": [
        "# impute null values in Site_Name column\n",
        "Merged_df['Site_Name'] = Merged_df['Site_Name'].fillna(\"Unknown\")\n",
        "\n",
        "# impute null values in Distance column\n",
        "Merged_df['Distance'] = Merged_df['Distance'].fillna(\"Unknown\")\n",
        "\n",
        "# impute null values in Sex column\n",
        "Merged_df['Sex'] = Merged_df['Sex'].fillna(\"Undetermined\")\n",
        "\n",
        "# impute null values in NPSTaxonCode column\n",
        "Merged_df['NPSTaxonCode'] = Merged_df['NPSTaxonCode'].fillna(\"N/A\")\n",
        "\n",
        "# impute null values in TaxonCode column\n",
        "Merged_df['TaxonCode'] = Merged_df['TaxonCode'].fillna(\"N/A\")"
      ],
      "metadata": {
        "id": "SErKZLtLXfqU"
      },
      "execution_count": null,
      "outputs": []
    },
    {
      "cell_type": "code",
      "source": [
        "# impute null values in Previously_Obs column using mode\n",
        "Merged_df['Previously_Obs'] = Merged_df['Previously_Obs'].fillna(Merged_df['Previously_Obs'].mode()[0])"
      ],
      "metadata": {
        "id": "2M3Vot3CXtJs"
      },
      "execution_count": null,
      "outputs": []
    },
    {
      "cell_type": "code",
      "source": [
        "# Drop rows where 'ID_Method' or 'AcceptedTSN' are null\n",
        "Merged_df = Merged_df.dropna(subset=['ID_Method', 'AcceptedTSN'])"
      ],
      "metadata": {
        "id": "D73GMxM0Td0Z"
      },
      "execution_count": null,
      "outputs": []
    },
    {
      "cell_type": "code",
      "source": [
        "# CHANGE DATATYPES\n",
        "\n",
        "# Fix Year column\n",
        "Merged_df['Year'] = pd.to_numeric(Merged_df['Year'], errors='coerce').astype('Int64')\n",
        "\n",
        "# Handle 'Start_time' and ''End_Time' Columns\n",
        "# Convert to string and strip spaces\n",
        "Merged_df['Start_Time'] = Merged_df['Start_Time'].astype(str).str.strip()\n",
        "Merged_df['End_Time'] = Merged_df['End_Time'].astype(str).str.strip()\n",
        "\n",
        "# Extract only the HH:MM:SS part (last 8 characters)\n",
        "Merged_df['Start_Time'] = Merged_df['Start_Time'].str[-8:]\n",
        "Merged_df['End_Time'] = Merged_df['End_Time'].str[-8:]\n",
        "\n",
        "# Convert to proper time format\n",
        "Merged_df['Start_Time'] = pd.to_datetime(Merged_df['Start_Time'], format='%H:%M:%S', errors='coerce').dt.time\n",
        "Merged_df['End_Time'] = pd.to_datetime(Merged_df['End_Time'], format='%H:%M:%S', errors='coerce').dt.time\n",
        "\n",
        "# Create a column for observation hour\n",
        "Merged_df['Observation_Hour'] = pd.to_datetime(Merged_df['Start_Time'].astype(str), format='%H:%M:%S').dt.hour\n"
      ],
      "metadata": {
        "id": "5g6k73Nif1v7"
      },
      "execution_count": null,
      "outputs": []
    },
    {
      "cell_type": "code",
      "source": [
        "bool_cols = ['Flyover_Observed', 'PIF_Watchlist_Status',\n",
        "             'Regional_Stewardship_Status', 'Initial_Three_Min_Cnt']\n",
        "\n",
        "for col in bool_cols:\n",
        "    Merged_df[col] = Merged_df[col].astype(str).str.strip().str.lower().map(\n",
        "        {'true': True, 'false': False, 'yes': True, 'no': False}\n",
        "    )\n",
        "cat_cols = ['Admin_Unit_Code', 'Site_Name', 'Plot_Name', 'Location_Type',\n",
        "            'Observer', 'ID_Method', 'Distance', 'Sex', 'Common_Name',\n",
        "            'Scientific_Name', 'Sky', 'Wind', 'Disturbance']\n",
        "\n",
        "for col in cat_cols:\n",
        "    Merged_df[col] = Merged_df[col].astype('category')"
      ],
      "metadata": {
        "id": "SGcAqvbCqt_Z"
      },
      "execution_count": null,
      "outputs": []
    },
    {
      "cell_type": "code",
      "source": [
        "# Drop Duplicates from merged dataset\n",
        "Merged_df.drop_duplicates(inplace=True)"
      ],
      "metadata": {
        "id": "A1gU9Rvpq9-U"
      },
      "execution_count": null,
      "outputs": []
    },
    {
      "cell_type": "code",
      "source": [
        "Merged_df.info()"
      ],
      "metadata": {
        "id": "s29N6K14n4Si"
      },
      "execution_count": null,
      "outputs": []
    },
    {
      "cell_type": "code",
      "source": [
        "# Save cleaned dataset\n",
        "Merged_df.to_csv(\"Bird_Monitoring_Clean_Merged_dataset.csv\", index=False)"
      ],
      "metadata": {
        "id": "MG_KP5jOuvim"
      },
      "execution_count": null,
      "outputs": []
    },
    {
      "cell_type": "markdown",
      "source": [
        "### What all manipulations have you done and insights you found?"
      ],
      "metadata": {
        "id": "MSa1f5Uengrz"
      }
    },
    {
      "cell_type": "markdown",
      "source": [
        "### **Key Manipulations:**\n",
        "\n",
        "* **Merged Forest and Grassland Datasets** to create a single unified dataset for analysis.\n",
        "* **Dropped `Sub_Unit_Code`** as it contained very few non-null values (sparse, low-utility data).\n",
        "* **Imputed Missing Values**:\n",
        "\n",
        "  * `Site_Name` and `Distance` → `\"Unknown\"`\n",
        "  * `Sex` → `\"Undetermined\"`\n",
        "  * `NPSTaxonCode` & `TaxonCode` → `\"N/A\"`\n",
        "  * `Previously_Obs` → Filled using the most frequent (mode) value.\n",
        "* **Dropped Rows with Missing `ID_Method` and `AcceptedTSN`** to ensure essential identification information is retained.\n",
        "* **Converted `Year` to Integer** (`Int64`) for consistent numeric analysis.\n",
        "* **Cleaned and Standardized Time Fields** (`Start_Time` and `End_Time`): removed extra spaces, extracted `HH:MM:SS`, converted to proper time format.\n",
        "* **Created `Observation_Hour` Column** from `Start_Time` to enable hourly trend analysis.\n",
        "* **Standardized Boolean-like Columns** (`Flyover_Observed`, `PIF_Watchlist_Status`, `Regional_Stewardship_Status`, `Initial_Three_Min_Cnt`) by mapping variations like `'yes'/'no'` and `'true'/'false'` to `True`/`False`.\n",
        "* **Converted Categorical Columns** (e.g., location codes, observer, species, environmental conditions) to category dtype for efficiency and consistency.\n",
        "* **Removed Duplicate Rows** to maintain data integrity.\n",
        "\n",
        "\n",
        "### **Insights Gained:**\n",
        "\n",
        "* **Data Deduplication** ensures no repeated entries, preventing double counting in species observations.\n",
        "* **Consistent Missing Value Handling** preserves maximum usable data while avoiding gaps in analysis.\n",
        "* **Categorical Standardization** improves the accuracy of grouping, filtering, and summary statistics.\n",
        "* **Time Cleaning and Hour Extraction** enables meaningful time-based pattern detection (e.g., peak bird activity hours).\n",
        "* **Boolean Standardization** supports reliable filtering and aggregation for conservation status and observation methods.\n",
        "* **Dropping Low-Value Columns** removes noise and improves dataset quality for focused analysis.\n"
      ],
      "metadata": {
        "id": "LbyXE7I1olp8"
      }
    },
    {
      "cell_type": "markdown",
      "source": [
        "## ***4. Data Vizualization, Storytelling & Experimenting with charts : Understand the relationships between variables***"
      ],
      "metadata": {
        "id": "GF8Ens_Soomf"
      }
    },
    {
      "cell_type": "markdown",
      "source": [
        "#### Chart - 1 (Age Distribution)"
      ],
      "metadata": {
        "id": "0wOQAZs5pc--"
      }
    },
    {
      "cell_type": "code",
      "source": [
        "# Age Distribution\n",
        "plt.figure(figsize=(12,6))\n",
        "sns.histplot(df['Age'], bins=30, kde=True, color='teal')\n",
        "plt.title('Age Distribution of Respondents')\n",
        "plt.xlabel('Age')\n",
        "plt.ylabel('Frequency')\n",
        "plt.show()"
      ],
      "metadata": {
        "id": "7v_ESjsspbW7"
      },
      "execution_count": null,
      "outputs": []
    },
    {
      "cell_type": "markdown",
      "source": [
        "##### 1. Why did you pick the specific chart?"
      ],
      "metadata": {
        "id": "K5QZ13OEpz2H"
      }
    },
    {
      "cell_type": "markdown",
      "source": [
        "This histogram was chosen to effectively display the frequency distribution of the respondents' ages, which is a continuous data set."
      ],
      "metadata": {
        "id": "XESiWehPqBRc"
      }
    },
    {
      "cell_type": "markdown",
      "source": [
        "##### 2. What is/are the insight(s) found from the chart?"
      ],
      "metadata": {
        "id": "lQ7QKXXCp7Bj"
      }
    },
    {
      "cell_type": "markdown",
      "source": [
        "The data reveals that the largest group of respondents are young adults, predominantly in their late 20s and early 30s, with a significant drop in respondents over the age of 40."
      ],
      "metadata": {
        "id": "C_j1G7yiqdRP"
      }
    },
    {
      "cell_type": "markdown",
      "source": [
        "##### 3. Will the gained insights help creating a positive business impact?\n",
        "Are there any insights that lead to negative growth? Justify with specific reason."
      ],
      "metadata": {
        "id": "448CDAPjqfQr"
      }
    },
    {
      "cell_type": "markdown",
      "source": [
        "Yes, this insight can drive positive impact by offering healthy working environment perticularly for the dominant age group, but it also reveals a potential negative factor by highlighting a major workingforce age struggling with mental health issues."
      ],
      "metadata": {
        "id": "3cspy4FjqxJW"
      }
    },
    {
      "cell_type": "markdown",
      "source": [
        "#### Chart - 2 (Gender Distribution)"
      ],
      "metadata": {
        "id": "KSlN3yHqYklG"
      }
    },
    {
      "cell_type": "code",
      "source": [
        "# Gender Count\n",
        "plt.figure(figsize=(12, 6))\n",
        "df['Gender'].value_counts().plot(kind='pie', autopct='%1.1f%%', colors=['cornflowerblue', 'plum','lavender'])\n",
        "plt.title('Gender Distribution of Respondents')\n",
        "plt.ylabel('')\n",
        "plt.show()\n",
        "\n"
      ],
      "metadata": {
        "id": "R4YgtaqtYklH"
      },
      "execution_count": null,
      "outputs": []
    },
    {
      "cell_type": "markdown",
      "source": [
        "##### 1. Why did you pick the specific chart?"
      ],
      "metadata": {
        "id": "t6dVpIINYklI"
      }
    },
    {
      "cell_type": "markdown",
      "source": [
        "This pie chart was chosen to clearly show the proportional breakdown of respondents by gender, which is a categorical variable."
      ],
      "metadata": {
        "id": "5aaW0BYyYklI"
      }
    },
    {
      "cell_type": "markdown",
      "source": [
        "##### 2. What is/are the insight(s) found from the chart?"
      ],
      "metadata": {
        "id": "ijmpgYnKYklI"
      }
    },
    {
      "cell_type": "markdown",
      "source": [
        "The insight from the chart is that the respondent base is heavily skewed towards males, who make up a vast majority (78.4%) of the participants followed by females and others."
      ],
      "metadata": {
        "id": "PSx9atu2YklI"
      }
    },
    {
      "cell_type": "markdown",
      "source": [
        "##### 3. Will the gained insights help creating a positive business impact?\n",
        "Are there any insights that lead to negative growth? Justify with specific reason."
      ],
      "metadata": {
        "id": "-JiQyfWJYklI"
      }
    },
    {
      "cell_type": "markdown",
      "source": [
        "Yes, this insight allows for tailoring mental health initiatives to the current male-dominated workforce, but it also signals a significant risk to organizational well-being, as a lack of gender diversity can lead to support systems that fail to address the unique challenges faced by other genders, fostering an exclusionary culture."
      ],
      "metadata": {
        "id": "BcBbebzrYklV"
      }
    },
    {
      "cell_type": "markdown",
      "source": [
        "#### Chart - 3 (Top 10 Countries)"
      ],
      "metadata": {
        "id": "EwiHc85sqtyK"
      }
    },
    {
      "cell_type": "code",
      "source": [
        "# Top 10 Countries\n",
        "top_countries = df['Country'].value_counts().nlargest(10)\n",
        "\n",
        "plt.figure(figsize=(12,6))\n",
        "sns.barplot(x=top_countries.values, y=top_countries.index, palette=\"coolwarm\")\n",
        "plt.title('Top 10 Countries by Respondent Count')\n",
        "plt.xlabel('Number of Respondents')\n",
        "plt.ylabel('Country')\n",
        "plt.show()"
      ],
      "metadata": {
        "id": "tzhRgFjqqtyL"
      },
      "execution_count": null,
      "outputs": []
    },
    {
      "cell_type": "markdown",
      "source": [
        "##### 1. Why did you pick the specific chart?"
      ],
      "metadata": {
        "id": "hAI2zFCDqtyM"
      }
    },
    {
      "cell_type": "markdown",
      "source": [
        "This horizontal bar chart was selected to clearly rank and compare the number of respondents from different countries, effectively handling long category labels."
      ],
      "metadata": {
        "id": "z-KPrQ39qtyN"
      }
    },
    {
      "cell_type": "markdown",
      "source": [
        "##### 2. What is/are the insight(s) found from the chart?"
      ],
      "metadata": {
        "id": "bd5fJyq-qtyN"
      }
    },
    {
      "cell_type": "markdown",
      "source": [
        "The data shows that respondents are overwhelmingly from the United States, with a sharp decline in numbers for other countries, most of which are Western and English-speaking."
      ],
      "metadata": {
        "id": "-2mcIkGxqtyO"
      }
    },
    {
      "cell_type": "markdown",
      "source": [
        "##### 3. Will the gained insights help creating a positive business impact?\n",
        "Are there any insights that lead to negative growth? Justify with specific reason."
      ],
      "metadata": {
        "id": "wBxHo9IlqtyO"
      }
    },
    {
      "cell_type": "markdown",
      "source": [
        "Yes, this insight suggests that most of the responders are from US ,which means US is active country in mental health survey.On the other hand,Maximum population of responders from US and very little from other countries can not properly display the global mental in tech correctly."
      ],
      "metadata": {
        "id": "vpQfeh_BqtyO"
      }
    },
    {
      "cell_type": "markdown",
      "source": [
        "#### Chart - 4 (Mental Health Treatment Distribution)"
      ],
      "metadata": {
        "id": "EM7whBJCYoAo"
      }
    },
    {
      "cell_type": "code",
      "source": [
        "# Mental Health Treatment Distribution\n",
        "plt.figure(figsize=(8, 5))\n",
        "df['treatment'].value_counts().plot(kind='pie', autopct='%1.1f%%', colors=['lightgreen', 'lightcoral'])\n",
        "plt.title('People undergoing Treatment for Mental Health')\n",
        "plt.ylabel('')\n",
        "plt.show()\n",
        "\n"
      ],
      "metadata": {
        "id": "t6GMdE67YoAp"
      },
      "execution_count": null,
      "outputs": []
    },
    {
      "cell_type": "markdown",
      "source": [
        "##### 1. Why did you pick the specific chart?"
      ],
      "metadata": {
        "id": "fge-S5ZAYoAp"
      }
    },
    {
      "cell_type": "markdown",
      "source": [
        "A pie chart was chosen to effectively visualize the proportion of people undergoing mental health treatment versus those who are not, showcasing parts of a whole."
      ],
      "metadata": {
        "id": "5dBItgRVYoAp"
      }
    },
    {
      "cell_type": "markdown",
      "source": [
        "##### 2. What is/are the insight(s) found from the chart?"
      ],
      "metadata": {
        "id": "85gYPyotYoAp"
      }
    },
    {
      "cell_type": "markdown",
      "source": [
        "The chart reveals that a near-equal proportion of individuals are currently undergoing mental health treatment (50.5%) as those who are not (49.5%)."
      ],
      "metadata": {
        "id": "4jstXR6OYoAp"
      }
    },
    {
      "cell_type": "markdown",
      "source": [
        "##### 3. Will the gained insights help creating a positive business impact?\n",
        "Are there any insights that lead to negative growth? Justify with specific reason."
      ],
      "metadata": {
        "id": "RoGjAbkUYoAp"
      }
    },
    {
      "cell_type": "markdown",
      "source": [
        "Yes, This insight of roughly half the population undergoing treatment suggests a significant and addressable market for mental health in tech, indicating a positive business impact by validating demand; however, the equally large segment not undergoing treatment highlights a potential for negative growth if these individuals are overlooked, representing a missed opportunity for market expansion and deeper penetration through awareness campaigns or less stigmatizing access points."
      ],
      "metadata": {
        "id": "zfJ8IqMcYoAp"
      }
    },
    {
      "cell_type": "markdown",
      "source": [
        "#### Chart - 5 (Work Interference Frequency)"
      ],
      "metadata": {
        "id": "4Of9eVA-YrdM"
      }
    },
    {
      "cell_type": "code",
      "source": [
        "# Work Interference Frequency\n",
        "plt.figure(figsize=(10, 5))\n",
        "sns.countplot(data=df, y='work_interfere', order=df['work_interfere'].value_counts().index, palette='pastel')\n",
        "plt.title('Work Interference Due to Mental Health')\n",
        "plt.xlabel('Count')\n",
        "plt.ylabel('Interference Level')\n",
        "plt.show()\n"
      ],
      "metadata": {
        "id": "irlUoxc8YrdO"
      },
      "execution_count": null,
      "outputs": []
    },
    {
      "cell_type": "markdown",
      "source": [
        "##### 1. Why did you pick the specific chart?"
      ],
      "metadata": {
        "id": "iky9q4vBYrdO"
      }
    },
    {
      "cell_type": "markdown",
      "source": [
        "A horizontal bar chart was selected to clearly compare the frequency of different \"Interference Levels\" of mental health on work."
      ],
      "metadata": {
        "id": "aJRCwT6DYrdO"
      }
    },
    {
      "cell_type": "markdown",
      "source": [
        "##### 2. What is/are the insight(s) found from the chart?"
      ],
      "metadata": {
        "id": "F6T5p64dYrdO"
      }
    },
    {
      "cell_type": "markdown",
      "source": [
        "The chart reveals that \"Sometimes\" is the most common work interference level due to mental health, followed by \"Never,\" then \"Rarely,\" and \"Often\" is the least common."
      ],
      "metadata": {
        "id": "Xx8WAJvtYrdO"
      }
    },
    {
      "cell_type": "markdown",
      "source": [
        "##### 3. Will the gained insights help creating a positive business impact?\n",
        "Are there any insights that lead to negative growth? Justify with specific reason."
      ],
      "metadata": {
        "id": "y-Ehk30pYrdP"
      }
    },
    {
      "cell_type": "markdown",
      "source": [
        "The insight that a significant portion of individuals are impacted by mental health at work presents a positive business impact for mental health in tech by indicating a large addressable market for workplace solutions; however, the \"Never\" category, while smaller, represents a potential for negative growth if mental health solutions don't proactively engage this segment through preventative measures or general wellness programs, missing an opportunity for broader impact across the entire workforce."
      ],
      "metadata": {
        "id": "jLNxxz7MYrdP"
      }
    },
    {
      "cell_type": "markdown",
      "source": [
        "#### Chart - 6 (Company Size by Number of Employees)"
      ],
      "metadata": {
        "id": "bamQiAODYuh1"
      }
    },
    {
      "cell_type": "code",
      "source": [
        "# Company Size (No. of Employees)\n",
        "plt.figure(figsize=(12, 6))\n",
        "sns.countplot(data=df, y='no_employees', order=df['no_employees'].value_counts().index, palette='muted')\n",
        "plt.title('Company Size by Number of Employees')\n",
        "plt.xlabel('Count')\n",
        "plt.ylabel('Company Size')\n",
        "plt.show()"
      ],
      "metadata": {
        "id": "TIJwrbroYuh3"
      },
      "execution_count": null,
      "outputs": []
    },
    {
      "cell_type": "markdown",
      "source": [
        "##### 1. Why did you pick the specific chart?"
      ],
      "metadata": {
        "id": "QHF8YVU7Yuh3"
      }
    },
    {
      "cell_type": "markdown",
      "source": [
        "A horizontal bar chart was chosen to effectively compare the number of companies across various employee size ranges, making it easy to see which size categories are most prevalent."
      ],
      "metadata": {
        "id": "dcxuIMRPYuh3"
      }
    },
    {
      "cell_type": "markdown",
      "source": [
        "##### 2. What is/are the insight(s) found from the chart?"
      ],
      "metadata": {
        "id": "GwzvFGzlYuh3"
      }
    },
    {
      "cell_type": "markdown",
      "source": [
        "The chart shows that companies with 6-25 and 26-100 employees are the most numerous, followed by companies with \"More than 1000\" employees, then 100-500, 1-5, and lastly 500-1000 employees."
      ],
      "metadata": {
        "id": "uyqkiB8YYuh3"
      }
    },
    {
      "cell_type": "markdown",
      "source": [
        "##### 3. Will the gained insights help creating a positive business impact?\n",
        "Are there any insights that lead to negative growth? Justify with specific reason."
      ],
      "metadata": {
        "id": "qYpmQ266Yuh3"
      }
    },
    {
      "cell_type": "markdown",
      "source": [
        "The insight that smaller to medium-sized companies represent the largest segment of the market presents a positive business impact for mental health in tech by indicating a vast, accessible target audience for scalable mental health solutions; however, the relatively lower count of very large (500-1000) companies suggests a potential for negative growth potentially overlooking the larger opportunity in serving the more numerous organizations with simpler  off-the-shelf offerings."
      ],
      "metadata": {
        "id": "_WtzZ_hCYuh4"
      }
    },
    {
      "cell_type": "markdown",
      "source": [
        "#### Chart - 7 (Family History)"
      ],
      "metadata": {
        "id": "XVAB2WSV_K6d"
      }
    },
    {
      "cell_type": "code",
      "source": [
        "# Family History\n",
        "plt.figure(figsize=(12, 6))\n",
        "df['family_history'].value_counts().plot(kind='pie', autopct='%1.1f%%', colors=['cornflowerblue', 'plum'])\n",
        "plt.title('Family History of Respondents')\n",
        "plt.ylabel('')\n",
        "plt.show()\n"
      ],
      "metadata": {
        "id": "Th6ua7HQ_K6e"
      },
      "execution_count": null,
      "outputs": []
    },
    {
      "cell_type": "markdown",
      "source": [
        "##### 1. Why did you pick the specific chart?"
      ],
      "metadata": {
        "id": "dTuwX1T1_K6e"
      }
    },
    {
      "cell_type": "markdown",
      "source": [
        "A pie chart was chosen to clearly show the proportion of respondents with and without a family history of mental health conditions, illustrating parts of a whole."
      ],
      "metadata": {
        "id": "oVABhtBB_K6e"
      }
    },
    {
      "cell_type": "markdown",
      "source": [
        "##### 2. What is/are the insight(s) found from the chart?"
      ],
      "metadata": {
        "id": "HqqUOn6K_K6f"
      }
    },
    {
      "cell_type": "markdown",
      "source": [
        "The chart reveals that a majority of respondents (60.9%) do not have a family history of mental health issues, while a significant minority (39.1%) do."
      ],
      "metadata": {
        "id": "XhxUNCsv_K6f"
      }
    },
    {
      "cell_type": "markdown",
      "source": [
        "##### 3. Will the gained insights help creating a positive business impact?\n",
        "Are there any insights that lead to negative growth? Justify with specific reason."
      ],
      "metadata": {
        "id": "RMvBziyN_K6f"
      }
    },
    {
      "cell_type": "markdown",
      "source": [
        "Yes, The insight that nearly 40% of respondents have a family history of mental health conditions presents a positive business impact for mental health by identifying a segment with potentially higher awareness and predisposition; however, the larger segment without a family history represents a potential for negative growth if solutions solely focus on known risk factors, potentially missing the broader population who may still benefit from general mental wellness tools."
      ],
      "metadata": {
        "id": "iArKzVjL_K6f"
      }
    },
    {
      "cell_type": "markdown",
      "source": [
        "#### Chart - 8 (Medical Leave Applicable)"
      ],
      "metadata": {
        "id": "ebNkfJIXA3BX"
      }
    },
    {
      "cell_type": "code",
      "source": [
        "# Medical Leave Applicable for mental Health Condition\n",
        "plt.figure(figsize=(12, 6))\n",
        "sns.countplot(data=df, y='leave', order=df['leave'].value_counts().index, palette='muted')\n",
        "plt.title('Medical Leave Applicable for mental Health Condition')\n",
        "plt.xlabel('Count')\n",
        "plt.ylabel('Responses')\n",
        "plt.show()\n"
      ],
      "metadata": {
        "id": "Gs82gdX0A3BY"
      },
      "execution_count": null,
      "outputs": []
    },
    {
      "cell_type": "markdown",
      "source": [
        "##### 1. Why did you pick the specific chart?"
      ],
      "metadata": {
        "id": "DH_Ec0a5A3BZ"
      }
    },
    {
      "cell_type": "markdown",
      "source": [
        "A horizontal bar chart was chosen to effectively compare the number of responses for different levels of ease/difficulty in taking medical leave for mental health conditions."
      ],
      "metadata": {
        "id": "A6udt7ESA3BZ"
      }
    },
    {
      "cell_type": "markdown",
      "source": [
        "##### 2. What is/are the insight(s) found from the chart?"
      ],
      "metadata": {
        "id": "DW0NJqXyA3BZ"
      }
    },
    {
      "cell_type": "markdown",
      "source": [
        "The chart reveals that a large number of respondents \"Don't know\" if medical leave is applicable for mental health, while it's considered \"Somewhat easy\" or \"Very easy\" by a notable portion, and \"Somewhat difficult\" or \"Very difficult\" by a smaller segment."
      ],
      "metadata": {
        "id": "sQYjoR2TA3BZ"
      }
    },
    {
      "cell_type": "markdown",
      "source": [
        "##### 3. Will the gained insights help creating a positive business impact?\n",
        "Are there any insights that lead to negative growth? Justify with specific reason."
      ],
      "metadata": {
        "id": "fCM2FKZwA3BZ"
      }
    },
    {
      "cell_type": "markdown",
      "source": [
        "Yes. the insights highlights an opportunity for mental health platforms to improve awareness of workplace policies. However, many finding leave access \"difficult\" signals potential risks to employee well-being and productivity, underscoring the need for policy reforms driven by this data.\n",
        "\n",
        "\n",
        "\n",
        "\n",
        "\n",
        "\n",
        "\n",
        "\n",
        "\n"
      ],
      "metadata": {
        "id": "gZ3rdTkZA3Ba"
      }
    },
    {
      "cell_type": "markdown",
      "source": [
        "#### Chart - 9 (Treatment vs Gender)"
      ],
      "metadata": {
        "id": "OH-pJp9IphqM"
      }
    },
    {
      "cell_type": "code",
      "source": [
        "# Treatment vs Gender\n",
        "plt.figure(figsize=(8, 6))\n",
        "sns.countplot(data=df, x='Gender', hue='treatment', palette='Set1')\n",
        "plt.title('Treatment vs Gender')\n",
        "plt.xlabel('Gender')\n",
        "plt.ylabel('Count')\n",
        "plt.show()\n"
      ],
      "metadata": {
        "id": "kuRf4wtuphqN"
      },
      "execution_count": null,
      "outputs": []
    },
    {
      "cell_type": "markdown",
      "source": [
        "##### 1. Why did you pick the specific chart?"
      ],
      "metadata": {
        "id": "bbFf2-_FphqN"
      }
    },
    {
      "cell_type": "markdown",
      "source": [
        "A grouped bar chart was chosen to effectively compare the number of individuals receiving or not receiving mental health treatment across different gender categories."
      ],
      "metadata": {
        "id": "loh7H2nzphqN"
      }
    },
    {
      "cell_type": "markdown",
      "source": [
        "##### 2. What is/are the insight(s) found from the chart?"
      ],
      "metadata": {
        "id": "_ouA3fa0phqN"
      }
    },
    {
      "cell_type": "markdown",
      "source": [
        "The chart indicates that a higher number of males are not receiving treatment compared to those who are, while for females, more are receiving treatment than not; the \"Others\" category shows very low counts for both treatment statuses."
      ],
      "metadata": {
        "id": "VECbqPI7phqN"
      }
    },
    {
      "cell_type": "markdown",
      "source": [
        "##### 3. Will the gained insights help creating a positive business impact?\n",
        "Are there any insights that lead to negative growth? Justify with specific reason."
      ],
      "metadata": {
        "id": "Seke61FWphqN"
      }
    },
    {
      "cell_type": "markdown",
      "source": [
        "Yes. The low treatment rates among males highlight an underserved group, offering mental health platforms a key opportunity for targeted outreach. However, neglecting the unique needs of males and the underrepresented \"Others\" group could worsen care disparities if not properly addressed in data and solutions."
      ],
      "metadata": {
        "id": "DW4_bGpfphqN"
      }
    },
    {
      "cell_type": "markdown",
      "source": [
        "#### Chart - 10 (Family History vs Treatment)"
      ],
      "metadata": {
        "id": "hBwiCKPBYjnT"
      }
    },
    {
      "cell_type": "code",
      "source": [
        "# Family History vs Treatment\n",
        "plt.figure(figsize=(8, 5))\n",
        "sns.countplot(data=df, x='family_history', hue='treatment', palette='Set2')\n",
        "plt.title('Treatment vs Family History')\n",
        "plt.xlabel('Family History of Mental Illness')\n",
        "plt.ylabel('Count')\n",
        "plt.show()\n"
      ],
      "metadata": {
        "id": "A21aSOceYjnT"
      },
      "execution_count": null,
      "outputs": []
    },
    {
      "cell_type": "markdown",
      "source": [
        "##### 1. Why did you pick the specific chart?"
      ],
      "metadata": {
        "id": "Q6kD7fz8YjnT"
      }
    },
    {
      "cell_type": "markdown",
      "source": [
        "A grouped bar chart was chosen to effectively compare the number of individuals receiving or not receiving mental health treatment based on their family history of mental illness."
      ],
      "metadata": {
        "id": "PkXuBY4OYjnT"
      }
    },
    {
      "cell_type": "markdown",
      "source": [
        "##### 2. What is/are the insight(s) found from the chart?"
      ],
      "metadata": {
        "id": "LLh-D4s5YjnT"
      }
    },
    {
      "cell_type": "markdown",
      "source": [
        "The chart indicates that individuals with no family history are more likely to not be in treatment, whereas individuals with a family history of mental illness are more likely to be receiving treatment."
      ],
      "metadata": {
        "id": "ZEZ1eJbpYjnU"
      }
    },
    {
      "cell_type": "markdown",
      "source": [
        "##### 3. Will the gained insights help creating a positive business impact?\n",
        "Are there any insights that lead to negative growth? Justify with specific reason."
      ],
      "metadata": {
        "id": "nV3XiurjYjnU"
      }
    },
    {
      "cell_type": "markdown",
      "source": [
        "Yes, Individuals with a family history are more likely to seek treatment, offering a clear target for advanced mental health solutions. However, focusing only on high-risk groups may overlook a wider audience, limiting growth in early detection and general wellness efforts."
      ],
      "metadata": {
        "id": "yXJpisg6YjnU"
      }
    },
    {
      "cell_type": "markdown",
      "source": [
        "#### Chart - 11(Work Interference vs Treatment)"
      ],
      "metadata": {
        "id": "PIIx-8_IphqN"
      }
    },
    {
      "cell_type": "code",
      "source": [
        "# Work Interference vs Treatment\n",
        "plt.figure(figsize=(10, 5))\n",
        "sns.countplot(data=df, x='work_interfere', hue='treatment', palette='Set2')\n",
        "plt.title('Treatment vs Work Interference')\n",
        "plt.xlabel('Work Interference')\n",
        "plt.ylabel('Count')\n",
        "plt.show()"
      ],
      "metadata": {
        "id": "lqAIGUfyphqO"
      },
      "execution_count": null,
      "outputs": []
    },
    {
      "cell_type": "markdown",
      "source": [
        "##### 1. Why did you pick the specific chart?"
      ],
      "metadata": {
        "id": "t27r6nlMphqO"
      }
    },
    {
      "cell_type": "markdown",
      "source": [
        "A grouped bar chart was chosen to effectively compare the number of individuals receiving or not receiving mental health treatment across different levels of work interference."
      ],
      "metadata": {
        "id": "iv6ro40sphqO"
      }
    },
    {
      "cell_type": "markdown",
      "source": [
        "##### 2. What is/are the insight(s) found from the chart?"
      ],
      "metadata": {
        "id": "r2jJGEOYphqO"
      }
    },
    {
      "cell_type": "markdown",
      "source": [
        "The chart indicates that individuals who experience \"Often\" or \"Rarely\" work interference are more likely to be receiving treatment, while those who experience \"Never\" work interference are significantly less likely to be in treatment, and \"Sometimes\" shows a roughly even split."
      ],
      "metadata": {
        "id": "Po6ZPi4hphqO"
      }
    },
    {
      "cell_type": "markdown",
      "source": [
        "##### 3. Will the gained insights help creating a positive business impact?\n",
        "Are there any insights that lead to negative growth? Justify with specific reason."
      ],
      "metadata": {
        "id": "b0JNsNcRphqO"
      }
    },
    {
      "cell_type": "markdown",
      "source": [
        "Yes, Individuals reporting frequent work interference are actively seeking treatment, indicating strong demand for workplace mental health support. However, overlooking those with little or occasional interference risks missing a large group that could benefit from early interventions, potentially limiting long-term impact and growth.\n",
        "\n",
        "\n",
        "\n",
        "\n",
        "\n",
        "\n",
        "\n",
        "\n",
        "\n"
      ],
      "metadata": {
        "id": "xvSq8iUTphqO"
      }
    },
    {
      "cell_type": "markdown",
      "source": [
        "#### Chart - 12 (Remote Work vs Treatment)"
      ],
      "metadata": {
        "id": "BZR9WyysphqO"
      }
    },
    {
      "cell_type": "code",
      "source": [
        "# Remote Work vs Treatment\n",
        "plt.figure(figsize=(7, 5))\n",
        "sns.countplot(data=df, x='remote_work', hue='treatment', palette='cool')\n",
        "plt.title('Treatment vs Remote Work')\n",
        "plt.xlabel('Remote Work')\n",
        "plt.ylabel('Count')\n",
        "plt.show()"
      ],
      "metadata": {
        "id": "TdPTWpAVphqO"
      },
      "execution_count": null,
      "outputs": []
    },
    {
      "cell_type": "markdown",
      "source": [
        "##### 1. Why did you pick the specific chart?"
      ],
      "metadata": {
        "id": "jj7wYXLtphqO"
      }
    },
    {
      "cell_type": "markdown",
      "source": [
        "A grouped bar chart was chosen to effectively compare the number of individuals receiving or not receiving mental health treatment based on their remote work status."
      ],
      "metadata": {
        "id": "Ob8u6rCTphqO"
      }
    },
    {
      "cell_type": "markdown",
      "source": [
        "##### 2. What is/are the insight(s) found from the chart?"
      ],
      "metadata": {
        "id": "eZrbJ2SmphqO"
      }
    },
    {
      "cell_type": "markdown",
      "source": [
        "The chart indicates that a higher number of non-remote workers are not in treatment compared to those who are, while among remote workers, slightly more are receiving treatment than not."
      ],
      "metadata": {
        "id": "mZtgC_hjphqO"
      }
    },
    {
      "cell_type": "markdown",
      "source": [
        "##### 3. Will the gained insights help creating a positive business impact?\n",
        "Are there any insights that lead to negative growth? Justify with specific reason."
      ],
      "metadata": {
        "id": "rFu4xreNphqO"
      }
    },
    {
      "cell_type": "markdown",
      "source": [
        "Remote workers show a higher tendency to seek treatment, highlighting a key audience for digital mental health solutions. However, focusing too heavily on remote setups may overlook the larger non-remote workforce, limiting opportunities to address mental health needs in traditional and hybrid workplaces."
      ],
      "metadata": {
        "id": "ey_0qi68phqO"
      }
    },
    {
      "cell_type": "markdown",
      "source": [
        "#### Chart - 13 (Supervisor Support vs Treatment)"
      ],
      "metadata": {
        "id": "YJ55k-q6phqO"
      }
    },
    {
      "cell_type": "code",
      "source": [
        "# Supervisor Support vs Treatment\n",
        "plt.figure(figsize=(8, 5))\n",
        "sns.countplot(data=df, x='supervisor', hue='treatment', palette='spring')\n",
        "plt.title('Treatment vs Supervisor Support')\n",
        "plt.xlabel('Supervisor Support')\n",
        "plt.ylabel('Count')\n",
        "plt.show()\n"
      ],
      "metadata": {
        "id": "B2aS4O1ophqO"
      },
      "execution_count": null,
      "outputs": []
    },
    {
      "cell_type": "markdown",
      "source": [
        "##### 1. Why did you pick the specific chart?"
      ],
      "metadata": {
        "id": "gCFgpxoyphqP"
      }
    },
    {
      "cell_type": "markdown",
      "source": [
        "A grouped bar chart was chosen to effectively compare the number of individuals receiving or not receiving mental health treatment across different levels of supervisor support."
      ],
      "metadata": {
        "id": "TVxDimi2phqP"
      }
    },
    {
      "cell_type": "markdown",
      "source": [
        "##### 2. What is/are the insight(s) found from the chart?"
      ],
      "metadata": {
        "id": "OVtJsKN_phqQ"
      }
    },
    {
      "cell_type": "markdown",
      "source": [
        "The chart indicates that individuals with supervisor support (\"Yes\") are slightly less likely to be in treatment, while those with no supervisor support (\"No\") are more likely to be in treatment. Individuals with \"Some of them\" support show a slightly higher likelihood of being in treatment."
      ],
      "metadata": {
        "id": "ngGi97qjphqQ"
      }
    },
    {
      "cell_type": "markdown",
      "source": [
        "##### 3. Will the gained insights help creating a positive business impact?\n",
        "Are there any insights that lead to negative growth? Justify with specific reason."
      ],
      "metadata": {
        "id": "lssrdh5qphqQ"
      }
    },
    {
      "cell_type": "markdown",
      "source": [
        "Yes, Individuals receiving supervisor support still seek treatment, revealing demand for mental health care tools. However, those without support being more likely in treatment signals a risk: without improving managerial empathy,mental health tools alone may fall short in fostering true workplace well-being."
      ],
      "metadata": {
        "id": "tBpY5ekJphqQ"
      }
    },
    {
      "cell_type": "markdown",
      "source": [
        "#### Chart - 14 (Age vs Work Interfere colored by Treatment)"
      ],
      "metadata": {
        "id": "U2RJ9gkRphqQ"
      }
    },
    {
      "cell_type": "code",
      "source": [
        "# Age vs Work Interfere colored by Treatment\n",
        "plt.figure(figsize=(10,6))\n",
        "sns.stripplot(data=df, x=\"work_interfere\", y=\"Age\", hue=\"treatment\", jitter=True)\n",
        "plt.title(\"Age vs Work Interfere colored by Treatment\")\n",
        "plt.show()"
      ],
      "metadata": {
        "id": "X0fZZIaZJdI5"
      },
      "execution_count": null,
      "outputs": []
    },
    {
      "cell_type": "markdown",
      "source": [
        "##### 1. Why did you pick the specific chart?"
      ],
      "metadata": {
        "id": "1M8mcRywphqQ"
      }
    },
    {
      "cell_type": "markdown",
      "source": [
        "A stripplot (or jitter plot) was chosen to visualize the distribution of individual age data points for different work interference levels."
      ],
      "metadata": {
        "id": "8agQvks0phqQ"
      }
    },
    {
      "cell_type": "markdown",
      "source": [
        "##### 2. What is/are the insight(s) found from the chart?"
      ],
      "metadata": {
        "id": "tgIPom80phqQ"
      }
    },
    {
      "cell_type": "markdown",
      "source": [
        "The chart indicates that individuals across all work interference levels, particularly in \"Sometimes\" and \"Never,\" span a wide age range, and that people of all ages experience work interference and either are or are not receiving treatment."
      ],
      "metadata": {
        "id": "Qp13pnNzphqQ"
      }
    },
    {
      "cell_type": "markdown",
      "source": [
        "##### 3. Will the gained insights help creating a positive business impact?\n",
        "Are there any insights that lead to negative growth? Justify with specific reason."
      ],
      "metadata": {
        "id": "JMzcOPDDphqR"
      }
    },
    {
      "cell_type": "markdown",
      "source": [
        "Yes, Work interference affects all age groups, highlighting a broad market for age-inclusive mental health in tech. However, the absence of age-based treatment patterns fails to tailor interventions by specific needs may limit effectiveness and growth."
      ],
      "metadata": {
        "id": "R4Ka1PC2phqR"
      }
    },
    {
      "cell_type": "markdown",
      "source": [
        "#### Chart - 15 (Correlation matrix)"
      ],
      "metadata": {
        "id": "x-EpHcCOp1ci"
      }
    },
    {
      "cell_type": "code",
      "source": [
        "from sklearn.preprocessing import LabelEncoder\n",
        "\n",
        "# Encode categorical columns\n",
        "encoded_df = df.copy()\n",
        "label_encoders = {}\n",
        "for col in encoded_df.select_dtypes(include='object').columns:\n",
        "    le = LabelEncoder()\n",
        "    encoded_df[col] = le.fit_transform(encoded_df[col].astype(str))\n",
        "    label_encoders[col] = le\n",
        "\n",
        "# Correlation matrix\n",
        "plt.figure(figsize=(16, 10))\n",
        "sns.heatmap(encoded_df.corr(), cmap=\"coolwarm\", annot=True, fmt=\".2f\", linewidths=0.5)\n",
        "plt.title(\"Correlation Heatmap of Survey Features\", fontsize=16)\n",
        "plt.show()\n",
        "\n"
      ],
      "metadata": {
        "id": "mAQTIvtqp1cj"
      },
      "execution_count": null,
      "outputs": []
    },
    {
      "cell_type": "markdown",
      "source": [
        "##### 1. Why did you pick the specific chart?"
      ],
      "metadata": {
        "id": "X_VqEhTip1ck"
      }
    },
    {
      "cell_type": "markdown",
      "source": [
        "The correlation heatmap effectively visualizes relationships between multiple mental health survey features at once, helping identify key associations."
      ],
      "metadata": {
        "id": "-vsMzt_np1ck"
      }
    },
    {
      "cell_type": "markdown",
      "source": [
        "##### 2. What is/are the insight(s) found from the chart?"
      ],
      "metadata": {
        "id": "8zGJKyg5p1ck"
      }
    },
    {
      "cell_type": "markdown",
      "source": [
        "There is a strong correlation between coworker and superviser(0.57) then seek_help and wellness_program(0.47) and then care_options and benefits (0.44)."
      ],
      "metadata": {
        "id": "ZYdMsrqVp1ck"
      }
    },
    {
      "cell_type": "markdown",
      "source": [
        "##### 3. Will the gained insights help creating a positive business impact?\n",
        "Are there any insights that lead to negative growth? Justify with specific reason."
      ],
      "metadata": {
        "id": "PVzmfK_Ep1ck"
      }
    },
    {
      "cell_type": "markdown",
      "source": [
        "Yes, the insights can drive positive business impact by improving mental health support systems through aligned wellness programs, benefits, and managerial support. No strong negative correlations were found, but weak associations may highlight missed opportunities in underutilized support services."
      ],
      "metadata": {
        "id": "druuKYZpp1ck"
      }
    },
    {
      "cell_type": "markdown",
      "source": [
        "## **5. Solution to Business Objective**"
      ],
      "metadata": {
        "id": "JcMwzZxoAimU"
      }
    },
    {
      "cell_type": "markdown",
      "source": [
        "#### What do you suggest the client to achieve Business Objective ?\n",
        "Explain Briefly."
      ],
      "metadata": {
        "id": "8G2x9gOozGDZ"
      }
    },
    {
      "cell_type": "markdown",
      "source": [
        "- Focus on employees in their late 20s to early 30s with tailored mental health programs.\n",
        "- Launch campaigns for men and include underrepresented genders in mental health initiatives.\n",
        "- Collaborate with global tech hubs to gather diverse data and improve outreach.\n",
        "- Strengthen supervisor and coworker support to boost mental health outcomes.\n",
        "- Make leave policies clearer and easier to access to reduce stress and absenteeism.\n",
        "- Provide affordable, flexible programs for small to mid-sized companies.\n",
        "- Offer wellness checks and preventive support even to those not yet seeking treatment.\n",
        "- Create virtual mental health services to support the growing remote workforce.\n",
        "- Reduce stigma through manager training, open dialogue, and anonymous feedback systems."
      ],
      "metadata": {
        "id": "pASKb0qOza21"
      }
    },
    {
      "cell_type": "markdown",
      "source": [
        "# **Conclusion**"
      ],
      "metadata": {
        "id": "gCX9965dhzqZ"
      }
    },
    {
      "cell_type": "markdown",
      "source": [
        "This analysis of the Mental Health in Tech dataset reveals critical insights into employee well-being and organizational gaps. Young adults in their late 20s and early 30s, especially males, face significant mental health challenges, yet treatment rates remain low. Factors such as supervisor support, workplace interference, and leave policies greatly influence treatment decisions. Small to mid-sized companies dominate the landscape, highlighting the need for scalable solutions. Additionally, remote workers show higher engagement in treatment, indicating digital intervention potential. These findings emphasize the need for inclusive, targeted, and proactive mental health strategies to build a healthier, more supportive tech work environment."
      ],
      "metadata": {
        "id": "Fjb1IsQkh3yE"
      }
    }
  ]
}